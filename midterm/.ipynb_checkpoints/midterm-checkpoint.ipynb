{
 "cells": [
  {
   "cell_type": "markdown",
   "id": "3def3efc",
   "metadata": {
    "tags": []
   },
   "source": [
    "# CMSE 202 Midterm (Section 001 - Fall 2025)\n",
    "\n",
    "The goal of this midterm is to give you the opportunity to test out some of the skills that you've developed thus far this semester. In particular, you'll practice setting up a GitHub repository, committing and pushing repository changes, downloading data with command line tools, performing some data analysis, possibly using a new Python package, and writing a python class. You should find that you have all of the skills necessary to complete this exam with even just eight weeks of CMSE 202 under your belt!\n",
    "\n",
    "You are encouraged to look through the entire exam before you get started so that you can appropriately budget your time and understand the broad goals of the exam. Once you've read through it, try doing Parts 0 and 1 first so that you have your repository set up and you download all necessary data files as they will be necessary to complete the assigned tasks. Let your instructor know right away if you have problems downloading the data!\n",
    "\n",
    "The exam is set up so that even if you get stuck on one part there are opportunities to get points on the other parts, so consider jumping ahead if you feel like you aren't making progress and then come back later if you have time. If you have any questions during the exam, you may ask the instructor, the TA, or the LA privately: simply raise your hand and one of us will come over to you. \n",
    "\n",
    "\n",
    "**Important note about using online resources**: This exam is \"open internet\". That means that you can look up documentation, google how to accomplish certain Python tasks, etc. Being able to effectively use the internet for computational modeling and data science is a very important skill, so we want to make sure you have the opportunity to exercise that skill. **However: The use of any person-to-person communication software or generative AI tools is absolutely not acceptable.** If you are seen accessing your email, using a collaborative cloud storage or document software (e.g. Slack, Google Documents), or generative AIs (e.g. ChatGPT), you will be at risk for receiving a zero on the exam. Google often does give an AI summary regardless of search, so to avoid misusing AI on the exam you should not copy-paste any of the questions from the exam directly into Google. \n",
    "\n",
    "**Keep your eyes on your screen!** Unfortunately, there isn't enough space in the room for everyone to sit at their own table so please keep your eyes on your own screen. This exam is designed to give *you* the opportunity to show the instructor what you can do and you should hold yourself accountable for maintaining a high level of academic integrity. If any of the instructors observe suspicious behavior, you will, again, risk receiving a zero.\n",
    "\n",
    "**Github Issues:** If at any point you encounter an issue with Github, such as a merge conflict, rather than spending your limited exam time trying to fix it, just write the code you would use to achieve the task in the notebook and move on. If you note the issue you encountered and have correct code in your notebook, you can still receive full credit. "
   ]
  },
  {
   "cell_type": "markdown",
   "id": "6b0b3d3a",
   "metadata": {},
   "source": [
    "---\n",
    "## Part 0: Academic integrity statement\n",
    "\n",
    "Read the following statement and edit the markdown text to put your name in the statement. This is your commitment to doing your own authentic work on this exam."
   ]
  },
  {
   "cell_type": "markdown",
   "id": "8e3dc4df",
   "metadata": {
    "pycharm": {
     "name": "#%% md\n"
    }
   },
   "source": [
    "> I, Maxwell Mccort, affirm that this exam represents my own authetic work, without the use of any unpermitted aids or generative AIs or person-to-person communication. I understand that this exam an an opportunity to showcase my own progress in developing and improving my computational skills and have done my best to demonstrate those skills."
   ]
  },
  {
   "cell_type": "markdown",
   "id": "435ee396",
   "metadata": {
    "tags": []
   },
   "source": [
    "## Part 1: Add to your Git repository to track your progress on your exam (10 points total)\n",
    "\n",
    "Before you get too far along in the exam, you're going to add it to the `cmse202-f25-turnin` repository you created in class (or in Homework 1) so that you can track your progress on the exam and preserve the final version that you turn in. In order to do this you need to\n",
    "\n",
    "1. Navigate to your `cmse202-f25-turnin` repository and create a new directory called `midterm`.\n",
    "2. Move this notebook into that **new directory** in your repository, then **add it and commit it to your repository**.\n",
    "3. Finally, to test that everything is working, \"git push\" the file so that it ends up in your GitHub repository.\n",
    "\n",
    "**Important**: Double check you've added your Professor and your TA as collaborators to your \"turnin\" respository (you should have done this in the previous homework assignment).\n",
    "\n",
    "**Important**: Make sure that the version of this notebook that you are working on is the same one that you just added to your repository! If you are working on a different copy of the noteobok, **none of your changes will be tracked**!\n",
    "\n",
    "The file should now show up on your GitHub account in the `cmse202-f25-turnin` repository inside the `midterm` directory you just created.  Periodically, **you'll be asked to commit your changes to the repository and push them to the remote GitHub location**. It can be good to get into a habit of committing your changes any time you make a significant modification."
   ]
  },
  {
   "cell_type": "markdown",
   "id": "290bab71",
   "metadata": {},
   "source": [
    "&#9989; **Question 1.1 Put all the Git commands you used to add your midterm folder and file to your GitHub repository (2 points)**:"
   ]
  },
  {
   "cell_type": "code",
   "execution_count": 18,
   "id": "77244e3d",
   "metadata": {},
   "outputs": [],
   "source": [
    "### Put your code here:\n",
    "cd ~/cmse202-f25-turnin\n",
    "mkdir -p midterm\n",
    "mv midterm.ipynb midterm/\n",
    "git add midterm/\n",
    "git commit -m \"Move notebook into midterm directory\"\n",
    "git push\n"
   ]
  },
  {
   "cell_type": "markdown",
   "id": "903ce347",
   "metadata": {},
   "source": [
    "&#9989; **Question 1.2 Put the code the instructor will need to clone your repository here (2 points)**:\n"
   ]
  },
  {
   "cell_type": "code",
   "execution_count": 19,
   "id": "adf93908",
   "metadata": {},
   "outputs": [],
   "source": [
    "### Put your code here:\n",
    "git clone https://github.com/mccortma-sys/cmse202-f25-turnin.git\n"
   ]
  },
  {
   "cell_type": "markdown",
   "id": "8239c731",
   "metadata": {},
   "source": [
    "&#9989; **Question 1.3 What code would you use to check the commit history of your Github repository. Write out the code below. (2 points)**:\n"
   ]
  },
  {
   "cell_type": "code",
   "execution_count": 20,
   "id": "2c84393a",
   "metadata": {},
   "outputs": [],
   "source": [
    "### Put your code here:\n",
    "git log"
   ]
  },
  {
   "cell_type": "markdown",
   "id": "39b5c084",
   "metadata": {},
   "source": [
    "&#9989; **Question 1.4 (4 points)**: After completing each of Part 2, Part 3, Part 4, and Part 5 below, save your notebook, commit the changes to your Git repository using a descriptive commit message, and push the changes to GitHub. Note that there are large &#128721; **STOP** signs reminding you to do this after each part. **Note:** If Github issues are encountered, just write the code you would use to commit and push changes under each of the stop signs. "
   ]
  },
  {
   "cell_type": "markdown",
   "id": "2a33af2b",
   "metadata": {},
   "source": [
    "## Part 2: Downloading and analyzing unfamiliar data (12 points)\n",
    "\n"
   ]
  },
  {
   "cell_type": "markdown",
   "id": "60a3afbd",
   "metadata": {},
   "source": [
    "In this section you will be tasked with downloading and exploring a specific data set. "
   ]
  },
  {
   "cell_type": "markdown",
   "id": "fdbaac8f",
   "metadata": {},
   "source": [
    "&#9989; **Question 2.1  Use the `curl` function we learned in class to downlaod the (https://raw.githubusercontent.com/hoolagans/CMSE202_FS24/refs/heads/main/CollegePlacement.csv) dataset to your working directory. Include the code you used to download the dataset below.  (2 points)**:\n"
   ]
  },
  {
   "cell_type": "code",
   "execution_count": 22,
   "id": "acd32e74",
   "metadata": {},
   "outputs": [],
   "source": [
    "### Put your code here:\n",
    "wget https://raw.githubusercontent.com/hoolagans/CMSE202_FS24/refs/heads/main/CollegePlacement.csv"
   ]
  },
  {
   "cell_type": "markdown",
   "id": "5c1ff7ba",
   "metadata": {},
   "source": [
    "&#9989; **Question 2.2 Read in the dataset as a Pandas data frame and then display the first 4 rows. (2 points)**: \n",
    "\n"
   ]
  },
  {
   "cell_type": "code",
   "execution_count": 3,
   "id": "0eabef99",
   "metadata": {},
   "outputs": [
    {
     "name": "stdout",
     "output_type": "stream",
     "text": [
      "  College_ID   IQ  Prev_Sem_Result  CGPA  Academic_Performance  \\\n",
      "0    CLG0030  107             6.61  6.28                     8   \n",
      "1    CLG0061   97             5.52  5.37                     8   \n",
      "2    CLG0036  109             5.36  5.83                     9   \n",
      "3    CLG0055  122             5.47  5.75                     6   \n",
      "\n",
      "  Internship_Experience  Extra_Curricular_Score  Communication_Skills  \\\n",
      "0                    No                       8                     8   \n",
      "1                    No                       7                     8   \n",
      "2                    No                       3                     1   \n",
      "3                   Yes                       1                     6   \n",
      "\n",
      "   Projects_Completed Placement  \n",
      "0                   4        No  \n",
      "1                   0        No  \n",
      "2                   1        No  \n",
      "3                   1        No  \n"
     ]
    }
   ],
   "source": [
    "### Put your code here:\n",
    "import pandas as pd\n",
    "\n",
    "url = \"https://raw.githubusercontent.com/hoolagans/CMSE202_FS24/refs/heads/main/CollegePlacement.csv\"\n",
    "df = pd.read_csv(url)\n",
    "\n",
    "print(df.head(4))\n"
   ]
  },
  {
   "cell_type": "markdown",
   "id": "d86e79ad",
   "metadata": {},
   "source": [
    "&#9989; **Question 2.3 Compute the mean value of `CGPA` in the data frame (2 points)**: \n",
    "\n"
   ]
  },
  {
   "cell_type": "code",
   "execution_count": 4,
   "id": "7fa9bffb",
   "metadata": {},
   "outputs": [
    {
     "name": "stdout",
     "output_type": "stream",
     "text": [
      "Mean CGPA: 7.532379\n"
     ]
    }
   ],
   "source": [
    "### Put your code here:\n",
    "mean_cgpa = df[\"CGPA\"].mean()\n",
    "print(\"Mean CGPA:\", mean_cgpa)\n"
   ]
  },
  {
   "cell_type": "markdown",
   "id": "2e90d1bd",
   "metadata": {},
   "source": [
    "&#9989; **Question 2.4 Make a new data frame from your current data frame that contains only the `IQ` and `CGPA` columns. (2 points)**: \n",
    "\n"
   ]
  },
  {
   "cell_type": "code",
   "execution_count": 5,
   "id": "b777a6af",
   "metadata": {},
   "outputs": [
    {
     "name": "stdout",
     "output_type": "stream",
     "text": [
      "    IQ  CGPA\n",
      "0  107  6.28\n",
      "1   97  5.37\n",
      "2  109  5.83\n",
      "3  122  5.75\n",
      "4   96  7.69\n"
     ]
    }
   ],
   "source": [
    "### Put your code here\n",
    "df_subset = df[[\"IQ\", \"CGPA\"]]\n",
    "\n",
    "print(df_subset.head())\n"
   ]
  },
  {
   "cell_type": "markdown",
   "id": "42fe8ccb",
   "metadata": {},
   "source": [
    "&#9989; **Question 2.5 Now using the new data frame, make a scatter plot of `IQ` vs `CGPA`. (2 points)**: \n"
   ]
  },
  {
   "cell_type": "code",
   "execution_count": 6,
   "id": "97b35785",
   "metadata": {},
   "outputs": [
    {
     "data": {
      "image/png": "[encoded data removed]",
      "text/plain": [
       "<Figure size 640x480 with 1 Axes>"
      ]
     },
     "metadata": {},
     "output_type": "display_data"
    }
   ],
   "source": [
    "### Put your code here\n",
    "import matplotlib.pyplot as plt\n",
    "\n",
    "plt.scatter(df_subset[\"IQ\"], df_subset[\"CGPA\"], alpha=0.7)\n",
    "plt.xlabel(\"IQ\")\n",
    "plt.ylabel(\"CGPA\")\n",
    "plt.title(\"Scatter Plot of IQ vs CGPA\")\n",
    "plt.grid(True)\n",
    "plt.show()\n"
   ]
  },
  {
   "cell_type": "markdown",
   "id": "9732c055",
   "metadata": {},
   "source": [
    "&#9989; **Question 2.6 What do you observe in the plot you generated above? Are there any patterns or trends? (2 points)**: \n"
   ]
  },
  {
   "cell_type": "markdown",
   "id": "d2a1022e",
   "metadata": {},
   "source": [
    "There are no patternes or trends in this data."
   ]
  },
  {
   "cell_type": "markdown",
   "id": "c7fb929b",
   "metadata": {
    "jp-MarkdownHeadingCollapsed": true,
    "tags": []
   },
   "source": [
    "---\n",
    "### &#128721; STOP (1 point)\n",
    "**Pause to commit your changes to your Git repository!**\n",
    "\n",
    "Take a moment to save your notebook, commit  and push the changes to your Git repository.\n",
    "\n",
    "---"
   ]
  },
  {
   "cell_type": "markdown",
   "id": "73b28e5a",
   "metadata": {
    "tags": []
   },
   "source": [
    "## Part 3: Working with a new Python package (10 points)\n",
    "\n",
    "In this section, we will be working with a new Python package called SymPy. This section will focus on your ability to explore and utilize documentation for a Python package you might not be familiar with. You can find the documentation here: https://docs.sympy.org/latest/index.html "
   ]
  },
  {
   "cell_type": "markdown",
   "id": "fac01f60",
   "metadata": {},
   "source": [
    "&#9989; **Question 3.1 Use pip install to install the SymPy package for Jupyter. Include the code you used to install it here. Remember to include the --user flag if using JupyterHub. If you already have SymPy installed, indicate the code you would use to install it. (2 points):** "
   ]
  },
  {
   "cell_type": "code",
   "execution_count": 9,
   "id": "cc86c046",
   "metadata": {},
   "outputs": [],
   "source": [
    "# Put your code here\n",
    "#pip install SymPy"
   ]
  },
  {
   "cell_type": "markdown",
   "id": "6890c0b6",
   "metadata": {},
   "source": [
    "&#9989; **Question 3.2 Following the documentation, import the SymPy library and create 'symbols' for 'x', 'y', and 'z' and store them into three unique variables. (2 points):** "
   ]
  },
  {
   "cell_type": "code",
   "execution_count": 10,
   "id": "8901b66f",
   "metadata": {},
   "outputs": [
    {
     "name": "stdout",
     "output_type": "stream",
     "text": [
      "The symbolic variable for 'x' is: x\n",
      "The symbolic variable for 'y' is: y\n",
      "The symbolic variable for 'z' is: z\n"
     ]
    }
   ],
   "source": [
    "# Put your code here\n",
    "import sympy as sp\n",
    "\n",
    "x_var, y_var, z_var = sp.symbols('x y z')\n",
    "\n",
    "print(f\"The symbolic variable for 'x' is: {x_var}\")\n",
    "print(f\"The symbolic variable for 'y' is: {y_var}\")\n",
    "print(f\"The symbolic variable for 'z' is: {z_var}\")"
   ]
  },
  {
   "cell_type": "markdown",
   "id": "caa1c580",
   "metadata": {},
   "source": [
    "&#9989; **Question 3.3 Now using the symbols you created in Question 3.2 generate and display the equation $(x+y+z)/x$ (2 points):** \n"
   ]
  },
  {
   "cell_type": "code",
   "execution_count": 12,
   "id": "54e8f1aa",
   "metadata": {},
   "outputs": [
    {
     "data": {
      "text/latex": [
       "$\\displaystyle \\frac{x + y + z}{x}$"
      ],
      "text/plain": [
       "<IPython.core.display.Math object>"
      ]
     },
     "metadata": {},
     "output_type": "display_data"
    }
   ],
   "source": [
    "# Put your code here\n",
    "from IPython.display import display, Math\n",
    "\n",
    "x, y, z = sp.symbols('x y z')\n",
    "\n",
    "equation = (x + y + z) / x\n",
    "\n",
    "display(Math(sp.latex(equation)))\n"
   ]
  },
  {
   "cell_type": "markdown",
   "id": "d4c7f3d3",
   "metadata": {},
   "source": [
    "&#9989; **Question 3.4 Now create a string containing the following equation ($2*x+3*y+6*x*y$) and then use the 'sympify' function to convert it into a symbolic formula. Finally, use SymPy to compute the derivative of the function with respect to the symbol `x`. (4 points):** "
   ]
  },
  {
   "cell_type": "code",
   "execution_count": 13,
   "id": "b6dc5057",
   "metadata": {},
   "outputs": [
    {
     "name": "stdout",
     "output_type": "stream",
     "text": [
      "Original formula: 6*x*y + 2*x + 3*y\n",
      "Derivative with respect to x: 6*y + 2\n"
     ]
    }
   ],
   "source": [
    "# Put your code here\n",
    "from sympy import sympify, symbols, diff\n",
    "\n",
    "equation_string = \"2*x + 3*y + 6*x*y\"\n",
    "\n",
    "formula = sympify(equation_string)\n",
    "\n",
    "x, y = symbols('x y')\n",
    "\n",
    "derivative_x = diff(formula, x)\n",
    "\n",
    "print(f\"Original formula: {formula}\")\n",
    "print(f\"Derivative with respect to x: {derivative_x}\")\n"
   ]
  },
  {
   "cell_type": "markdown",
   "id": "d381baf7",
   "metadata": {
    "jp-MarkdownHeadingCollapsed": true,
    "tags": []
   },
   "source": [
    "---\n",
    "### &#128721; STOP (1 point)\n",
    "**Pause to commit your changes to your Git repository!**\n",
    "\n",
    "Take a moment to save your notebook, commit  and push the changes to your Git repository.\n",
    "\n",
    "---"
   ]
  },
  {
   "cell_type": "markdown",
   "id": "07d450c5",
   "metadata": {},
   "source": [
    "## Part 4: Writing a simple Python class (10 points)\n",
    "<img src=\"https://github.com/hoolagans/CMSE202_FS24/blob/main/tennis_player_humanized.gif?raw=true\" width=\"400px\">\n",
    "\n",
    "\n",
    "In this section, we will be developing a Python class for tracking workouts and calories burned. You are given a partially commpleted Python class that you will be asked to complete. "
   ]
  },
  {
   "cell_type": "markdown",
   "id": "8c264b75",
   "metadata": {},
   "source": [
    "&#9989; **Question 4.1 In this section we will use the starter code below to complete the workoutTracking class.  (5 points):** \n",
    "\n",
    "> 1. In the init function we will be tracking three things: `workoutHours`, `caloriesBurned`, and a log of `workouts`. Initially set `workoutHours` to 0, `caloriesBurned` to 0, and `workouts` to an empty list. \n",
    "\n",
    "> 2. Complete the `logRunning` function. The function should take as input the number of hours of running and a number from 1-10 to track the intensity (2 inputs: `hours`, `intensity`). The function should: \n",
    "- update the total number of hours in `workoutHours`\n",
    "- update `caloriesBurned` using the following formula $hours * intensity * 120$\n",
    "- update the workout log to append \"Running\" to the list\n",
    "\n",
    "> 3. Complete the `logTennis` function. The function should take as input the number of hours of tennis and a number from 1-10 to track the intensity (2 inputs: `hours`, `intensity`). The function should: \n",
    "- update the total number of hours in `workoutHours`\n",
    "- update `caloriesBurned` using the following formula $hours * intensity * 110$\n",
    "- update the workout log to append \"Tennis\" to the list\n",
    "\n",
    "> 4. Finish the `getStats` function by completing the two lines indicated by the comments so that the total number of hours and the total calories burned are printed. \n"
   ]
  },
  {
   "cell_type": "code",
   "execution_count": 2,
   "id": "0c7c0e8c",
   "metadata": {},
   "outputs": [],
   "source": [
    "### Put your code here\n",
    "class workoutTracking:\n",
    "    def __init__(self):\n",
    "        self.workoutHours = 0\n",
    "        self.caloriesBurned = 0\n",
    "        self.workouts = []\n",
    "\n",
    "    def logLifting(self, hours, intensity):\n",
    "        self.workoutHours += hours\n",
    "        self.caloriesBurned += hours * intensity * 100 \n",
    "        self.workouts.append((\"Lifting\", hours, intensity))\n",
    "\n",
    "    def logRunning(self, hours, intensity):  \n",
    "        self.workoutHours += hours\n",
    "        self.caloriesBurned += hours * intensity * 120\n",
    "        self.workouts.append((\"Running\", hours, intensity))\n",
    "\n",
    "    def logTennis(self, hours, intensity):  \n",
    "        self.workoutHours += hours\n",
    "        self.caloriesBurned += hours * intensity * 110\n",
    "        self.workouts.append((\"Tennis\", hours, intensity))\n",
    "    \n",
    "    def getStats(self):\n",
    "        print(f\"Total Workout Hours: {self.workoutHours}\")   \n",
    "        print(f\"Total Calories Burned: {self.caloriesBurned}\")  \n",
    "        print(\"Workout Log:\")\n",
    "        for workout in self.workouts:\n",
    "            print(f\" - {workout[0]}: {workout[1]} hours at intensity {workout[2]}\")\n",
    "\n"
   ]
  },
  {
   "cell_type": "markdown",
   "id": "cf47f90d",
   "metadata": {},
   "source": [
    "&#9989; **Question 4.2: To demonstrate the code works.(5 points):**\n",
    "\n",
    "> 1. Create a workoutTracking object\n",
    "> 2. Log an hour of lifting at intensity 1.\n",
    "> 3. Log a half hour of running at intensity 2.\n",
    "> 4. Log 1.5 hours of tennis at intensity 3.\n",
    "> 5. Use the `getStats` function to report the tracked information. "
   ]
  },
  {
   "cell_type": "code",
   "execution_count": 3,
   "id": "3506a66d",
   "metadata": {},
   "outputs": [
    {
     "name": "stdout",
     "output_type": "stream",
     "text": [
      "Total Workout Hours: 3.0\n",
      "Total Calories Burned: 715.0\n",
      "Workout Log:\n",
      " - Lifting: 1 hours at intensity 1\n",
      " - Running: 0.5 hours at intensity 2\n",
      " - Tennis: 1.5 hours at intensity 3\n"
     ]
    }
   ],
   "source": [
    "### Put your code here    \n",
    "tracker = workoutTracking()\n",
    "\n",
    "tracker.logLifting(1, 1)      \n",
    "tracker.logRunning(0.5, 2)    \n",
    "tracker.logTennis(1.5, 3)     \n",
    "\n",
    "tracker.getStats()\n"
   ]
  },
  {
   "cell_type": "markdown",
   "id": "c159cf9a",
   "metadata": {
    "tags": []
   },
   "source": [
    "---\n",
    "### &#128721; STOP (1 point)\n",
    "**Pause to commit your changes to your Git repository!**\n",
    "\n",
    "Take a moment to save your notebook, commit  and push the changes to your Git repository.\n",
    "\n",
    "---"
   ]
  },
  {
   "cell_type": "markdown",
   "id": "755cce02-7247-4e83-8c8f-9d3355f1512a",
   "metadata": {},
   "source": [
    "## Part 5: Writing a simple Python code using different programming paradigms (11 points)\n",
    "\n",
    "<img src=\"https://github.com/hoolagans/CMSE202_FS24/blob/main/Designer-2.png?raw=true\" width=\"200px\">\n",
    "\n",
    "\n",
    "In this section, you will show your ability to use the three different programming paradigms we learned in class (linear, functional, and object-oriented). **Note: There are many possible correct approaches. We are not looking for a specific answer, just that you correctly used the assigned programming paradigm to solve the problem.**\n",
    "\n",
    "We will simulate the savings and spending of an individual. At each step, you will update the total savings of the individual based on the specific transaction. Total savings should be initialized at \\$0. \n",
    "\n",
    "> 1. It's payday! Collect \\$1000. \n",
    "> 2. It's time to pay bills :\\(. Pay \\$200 for the utilities. \n",
    "> 3. It's your Birthday! Collect \\$350 in birthday money. \n",
    "> 4. It's tax day :\\(. Pay \\$150 to the government. \n",
    "> 5. You bet it all on red, won, and doubled your money. \n",
    "> 6. Print your final savings. "
   ]
  },
  {
   "cell_type": "markdown",
   "id": "565a8282-74af-4ffd-b6cf-0c483cf9588f",
   "metadata": {},
   "source": [
    "&#9989; **Question 5.1 Write code for the above task using linear programming (3 points):** "
   ]
  },
  {
   "cell_type": "code",
   "execution_count": 4,
   "id": "4c321a9f-e981-4657-ad7a-c83eaa777bdb",
   "metadata": {},
   "outputs": [
    {
     "name": "stdout",
     "output_type": "stream",
     "text": [
      "Final savings: 2000\n"
     ]
    }
   ],
   "source": [
    "### Put your code here\n",
    "savings = 0\n",
    "savings += 1000\n",
    "savings -= 200\n",
    "savings += 350\n",
    "savings -= 150\n",
    "savings *= 2\n",
    "\n",
    "print(\"Final savings:\", savings)\n"
   ]
  },
  {
   "cell_type": "markdown",
   "id": "0e6d60bd-78fc-4aad-a488-4dbe6cbf762f",
   "metadata": {},
   "source": [
    "&#9989; **Question 5.2 Write code for the above task using functional programming (3 points):** "
   ]
  },
  {
   "cell_type": "code",
   "execution_count": 6,
   "id": "647cf0e9-9009-4cda-909c-0aa8107dff4e",
   "metadata": {},
   "outputs": [
    {
     "name": "stdout",
     "output_type": "stream",
     "text": [
      "Final savings: 2000\n"
     ]
    }
   ],
   "source": [
    "### Put your code here\n",
    "from functools import reduce\n",
    "\n",
    "initial_savings = 0\n",
    "def payday(balance): return balance + 1000\n",
    "def utilities(balance): return balance - 200\n",
    "def birthday(balance): return balance + 350\n",
    "def taxes(balance): return balance - 150\n",
    "def bet(balance): return balance * 2\n",
    "\n",
    "transactions = [payday, utilities, birthday, taxes, bet]\n",
    "\n",
    "final_savings = reduce(lambda bal, func: func(bal), transactions, initial_savings)\n",
    "\n",
    "print(\"Final savings:\", final_savings)\n"
   ]
  },
  {
   "cell_type": "markdown",
   "id": "7c98bcff-f743-46c9-937f-e493e92666f5",
   "metadata": {},
   "source": [
    "&#9989; **Question 5.3 Write code for the above task using object-oriented programming (3 points):** "
   ]
  },
  {
   "cell_type": "code",
   "execution_count": 5,
   "id": "06556500-bcd9-4f3e-8b26-92fd4db2b945",
   "metadata": {},
   "outputs": [
    {
     "name": "stdout",
     "output_type": "stream",
     "text": [
      "Final savings: 2000\n"
     ]
    }
   ],
   "source": [
    "### Put your code here\n",
    "class Account:\n",
    "    def __init__(self):\n",
    "        self.balance = 0 \n",
    "\n",
    "    def payday(self, amount=1000):\n",
    "        self.balance += amount\n",
    "\n",
    "    def pay_utilities(self, amount=200):\n",
    "        self.balance -= amount\n",
    "\n",
    "    def birthday(self, amount=350):\n",
    "        self.balance += amount\n",
    "\n",
    "    def pay_taxes(self, amount=150):\n",
    "        self.balance -= amount\n",
    "\n",
    "    def bet_double(self):\n",
    "        self.balance *= 2\n",
    "\n",
    "    def get_balance(self):\n",
    "        return self.balance\n",
    "        \n",
    "person = Account()\n",
    "person.payday()         \n",
    "person.pay_utilities() \n",
    "person.birthday()    \n",
    "person.pay_taxes()    \n",
    "person.bet_double()  \n",
    "\n",
    "print(\"Final savings:\", person.get_balance())\n"
   ]
  },
  {
   "cell_type": "markdown",
   "id": "23fa07a7-a7ae-42bd-8c2b-0378bb299852",
   "metadata": {},
   "source": [
    "&#9989; **Question 5.4 Which method do you think was best suited for this problem and why? (2 points):** "
   ]
  },
  {
   "cell_type": "markdown",
   "id": "5e8e38cf-1f3c-4711-b90a-227424e39219",
   "metadata": {},
   "source": [
    "### I believe that linear programming is best for this situation. The reason I say this is because it is the most simple, straightworward, and easy to understand code that can be implemented here. "
   ]
  },
  {
   "cell_type": "markdown",
   "id": "14435d84-82d4-4ffc-82b9-3188de6c7103",
   "metadata": {},
   "source": [
    "---\n",
    "### &#128721; STOP (1 point)\n",
    "**Pause to commit your changes to your Git repository!**\n",
    "\n",
    "Take a moment to save your notebook, commit  and push the changes to your Git repository.\n",
    "\n",
    "---"
   ]
  },
  {
   "cell_type": "markdown",
   "id": "868efbc9",
   "metadata": {
    "jp-MarkdownHeadingCollapsed": true,
    "tags": []
   },
   "source": [
    "## You're done! Congrats on finishing your CMSE 202 Midterm!\n",
    "\n",
    "Make sure all of your changes to your repository are committed and pushed to GitHub. Also upload a copy of this notebook to the dropbox on D2L in case something went wrong with your repository or if you couldn't get the repository to work."
   ]
  }
 ],
 "metadata": {
  "kernelspec": {
   "display_name": "Python 3.12 (default)",
   "language": "python",
   "name": "python3"
  },
  "language_info": {
   "codemirror_mode": {
    "name": "ipython",
    "version": 3
   },
   "file_extension": ".py",
   "mimetype": "text/x-python",
   "name": "python",
   "nbconvert_exporter": "python",
   "pygments_lexer": "ipython3",
   "version": "3.12.11"
  }
 },
 "nbformat": 4,
 "nbformat_minor": 5
}
